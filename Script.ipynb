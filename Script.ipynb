{
 "cells": [
  {
   "cell_type": "code",
   "execution_count": 95,
   "id": "34bfffa2-f166-438e-8448-c02b6437fa0e",
   "metadata": {},
   "outputs": [],
   "source": [
    "# Importing requirements\n",
    "\n",
    "import pandas as pd\n",
    "import numpy as np\n",
    "import matplotlib.pyplot as plt\n",
    "import seaborn as sns\n",
    "from sklearn.model_selection import train_test_split\n",
    "from sklearn.preprocessing import StandardScaler\n",
    "from sklearn.decomposition import PCA\n",
    "from sklearn.linear_model import LinearRegression\n",
    "from sklearn.model_selection import cross_val_score\n",
    "from sklearn.tree import DecisionTreeRegressor\n",
    "from sklearn.metrics import r2_score"
   ]
  },
  {
   "cell_type": "code",
   "execution_count": 97,
   "id": "d802ed02-f22d-4af6-a662-21fb6757d603",
   "metadata": {},
   "outputs": [],
   "source": [
    "# Loading dataset\n",
    "\n",
    "df = pd.read_csv(\"data.csv\")"
   ]
  },
  {
   "cell_type": "code",
   "execution_count": 99,
   "id": "9dcfebe2-9507-4eee-8c6a-c96b61a97307",
   "metadata": {},
   "outputs": [
    {
     "data": {
      "text/html": [
       "<div>\n",
       "<style scoped>\n",
       "    .dataframe tbody tr th:only-of-type {\n",
       "        vertical-align: middle;\n",
       "    }\n",
       "\n",
       "    .dataframe tbody tr th {\n",
       "        vertical-align: top;\n",
       "    }\n",
       "\n",
       "    .dataframe thead th {\n",
       "        text-align: right;\n",
       "    }\n",
       "</style>\n",
       "<table border=\"1\" class=\"dataframe\">\n",
       "  <thead>\n",
       "    <tr style=\"text-align: right;\">\n",
       "      <th></th>\n",
       "      <th>hsi_id</th>\n",
       "      <th>0</th>\n",
       "      <th>1</th>\n",
       "      <th>2</th>\n",
       "      <th>3</th>\n",
       "      <th>4</th>\n",
       "      <th>5</th>\n",
       "      <th>6</th>\n",
       "      <th>7</th>\n",
       "      <th>8</th>\n",
       "      <th>...</th>\n",
       "      <th>439</th>\n",
       "      <th>440</th>\n",
       "      <th>441</th>\n",
       "      <th>442</th>\n",
       "      <th>443</th>\n",
       "      <th>444</th>\n",
       "      <th>445</th>\n",
       "      <th>446</th>\n",
       "      <th>447</th>\n",
       "      <th>vomitoxin_ppb</th>\n",
       "    </tr>\n",
       "  </thead>\n",
       "  <tbody>\n",
       "    <tr>\n",
       "      <th>0</th>\n",
       "      <td>imagoai_corn_0</td>\n",
       "      <td>0.416181</td>\n",
       "      <td>0.396844</td>\n",
       "      <td>0.408985</td>\n",
       "      <td>0.372865</td>\n",
       "      <td>0.385293</td>\n",
       "      <td>0.365390</td>\n",
       "      <td>0.355226</td>\n",
       "      <td>0.343350</td>\n",
       "      <td>0.344837</td>\n",
       "      <td>...</td>\n",
       "      <td>0.710280</td>\n",
       "      <td>0.717482</td>\n",
       "      <td>0.715078</td>\n",
       "      <td>0.705379</td>\n",
       "      <td>0.696691</td>\n",
       "      <td>0.692793</td>\n",
       "      <td>0.711369</td>\n",
       "      <td>0.697679</td>\n",
       "      <td>0.704520</td>\n",
       "      <td>1100.0</td>\n",
       "    </tr>\n",
       "    <tr>\n",
       "      <th>1</th>\n",
       "      <td>imagoai_corn_1</td>\n",
       "      <td>0.415797</td>\n",
       "      <td>0.402956</td>\n",
       "      <td>0.402564</td>\n",
       "      <td>0.396014</td>\n",
       "      <td>0.397192</td>\n",
       "      <td>0.389634</td>\n",
       "      <td>0.375671</td>\n",
       "      <td>0.363689</td>\n",
       "      <td>0.373883</td>\n",
       "      <td>...</td>\n",
       "      <td>0.684011</td>\n",
       "      <td>0.697271</td>\n",
       "      <td>0.701995</td>\n",
       "      <td>0.696077</td>\n",
       "      <td>0.701012</td>\n",
       "      <td>0.677418</td>\n",
       "      <td>0.696921</td>\n",
       "      <td>0.696544</td>\n",
       "      <td>0.689054</td>\n",
       "      <td>1000.0</td>\n",
       "    </tr>\n",
       "    <tr>\n",
       "      <th>2</th>\n",
       "      <td>imagoai_corn_2</td>\n",
       "      <td>0.389023</td>\n",
       "      <td>0.371206</td>\n",
       "      <td>0.373098</td>\n",
       "      <td>0.373872</td>\n",
       "      <td>0.361056</td>\n",
       "      <td>0.349709</td>\n",
       "      <td>0.333882</td>\n",
       "      <td>0.330841</td>\n",
       "      <td>0.328925</td>\n",
       "      <td>...</td>\n",
       "      <td>0.683054</td>\n",
       "      <td>0.669286</td>\n",
       "      <td>0.663179</td>\n",
       "      <td>0.676165</td>\n",
       "      <td>0.676591</td>\n",
       "      <td>0.655951</td>\n",
       "      <td>0.658945</td>\n",
       "      <td>0.670989</td>\n",
       "      <td>0.665176</td>\n",
       "      <td>1300.0</td>\n",
       "    </tr>\n",
       "    <tr>\n",
       "      <th>3</th>\n",
       "      <td>imagoai_corn_3</td>\n",
       "      <td>0.468837</td>\n",
       "      <td>0.473255</td>\n",
       "      <td>0.462949</td>\n",
       "      <td>0.459335</td>\n",
       "      <td>0.461672</td>\n",
       "      <td>0.459824</td>\n",
       "      <td>0.458194</td>\n",
       "      <td>0.427737</td>\n",
       "      <td>0.415360</td>\n",
       "      <td>...</td>\n",
       "      <td>0.742782</td>\n",
       "      <td>0.730801</td>\n",
       "      <td>0.736787</td>\n",
       "      <td>0.730044</td>\n",
       "      <td>0.751437</td>\n",
       "      <td>0.738497</td>\n",
       "      <td>0.742446</td>\n",
       "      <td>0.754657</td>\n",
       "      <td>0.733474</td>\n",
       "      <td>1300.0</td>\n",
       "    </tr>\n",
       "    <tr>\n",
       "      <th>4</th>\n",
       "      <td>imagoai_corn_4</td>\n",
       "      <td>0.483352</td>\n",
       "      <td>0.487274</td>\n",
       "      <td>0.469153</td>\n",
       "      <td>0.487648</td>\n",
       "      <td>0.464026</td>\n",
       "      <td>0.451152</td>\n",
       "      <td>0.458229</td>\n",
       "      <td>0.440782</td>\n",
       "      <td>0.426193</td>\n",
       "      <td>...</td>\n",
       "      <td>0.770227</td>\n",
       "      <td>0.773013</td>\n",
       "      <td>0.761431</td>\n",
       "      <td>0.763488</td>\n",
       "      <td>0.762473</td>\n",
       "      <td>0.744012</td>\n",
       "      <td>0.775486</td>\n",
       "      <td>0.760431</td>\n",
       "      <td>0.751988</td>\n",
       "      <td>220.0</td>\n",
       "    </tr>\n",
       "  </tbody>\n",
       "</table>\n",
       "<p>5 rows × 450 columns</p>\n",
       "</div>"
      ],
      "text/plain": [
       "           hsi_id         0         1         2         3         4         5  \\\n",
       "0  imagoai_corn_0  0.416181  0.396844  0.408985  0.372865  0.385293  0.365390   \n",
       "1  imagoai_corn_1  0.415797  0.402956  0.402564  0.396014  0.397192  0.389634   \n",
       "2  imagoai_corn_2  0.389023  0.371206  0.373098  0.373872  0.361056  0.349709   \n",
       "3  imagoai_corn_3  0.468837  0.473255  0.462949  0.459335  0.461672  0.459824   \n",
       "4  imagoai_corn_4  0.483352  0.487274  0.469153  0.487648  0.464026  0.451152   \n",
       "\n",
       "          6         7         8  ...       439       440       441       442  \\\n",
       "0  0.355226  0.343350  0.344837  ...  0.710280  0.717482  0.715078  0.705379   \n",
       "1  0.375671  0.363689  0.373883  ...  0.684011  0.697271  0.701995  0.696077   \n",
       "2  0.333882  0.330841  0.328925  ...  0.683054  0.669286  0.663179  0.676165   \n",
       "3  0.458194  0.427737  0.415360  ...  0.742782  0.730801  0.736787  0.730044   \n",
       "4  0.458229  0.440782  0.426193  ...  0.770227  0.773013  0.761431  0.763488   \n",
       "\n",
       "        443       444       445       446       447  vomitoxin_ppb  \n",
       "0  0.696691  0.692793  0.711369  0.697679  0.704520         1100.0  \n",
       "1  0.701012  0.677418  0.696921  0.696544  0.689054         1000.0  \n",
       "2  0.676591  0.655951  0.658945  0.670989  0.665176         1300.0  \n",
       "3  0.751437  0.738497  0.742446  0.754657  0.733474         1300.0  \n",
       "4  0.762473  0.744012  0.775486  0.760431  0.751988          220.0  \n",
       "\n",
       "[5 rows x 450 columns]"
      ]
     },
     "execution_count": 99,
     "metadata": {},
     "output_type": "execute_result"
    }
   ],
   "source": [
    "df.head(5)"
   ]
  },
  {
   "cell_type": "code",
   "execution_count": 101,
   "id": "de0d860d-7c81-4252-8594-13129f06ee88",
   "metadata": {},
   "outputs": [
    {
     "name": "stdout",
     "output_type": "stream",
     "text": [
      "<class 'pandas.core.frame.DataFrame'>\n",
      "RangeIndex: 500 entries, 0 to 499\n",
      "Columns: 450 entries, hsi_id to vomitoxin_ppb\n",
      "dtypes: float64(449), object(1)\n",
      "memory usage: 1.7+ MB\n"
     ]
    }
   ],
   "source": [
    "df.info()\n",
    "#*********************************\n",
    "# object : hsi_id  ; rest are float"
   ]
  },
  {
   "cell_type": "code",
   "execution_count": 103,
   "id": "0d21805b-614a-40dc-a896-7a0cdf406d55",
   "metadata": {},
   "outputs": [
    {
     "name": "stdout",
     "output_type": "stream",
     "text": [
      "Train size (400, 448)\n",
      "Test size (100, 448)\n"
     ]
    }
   ],
   "source": [
    "#**************************\n",
    "# train test split\n",
    "\n",
    "X = df.drop(columns = [\"hsi_id\", \"vomitoxin_ppb\"])\n",
    "y = df[\"vomitoxin_ppb\"]\n",
    "\n",
    "X_train, X_test, y_train, y_test = train_test_split(X, y, test_size = 0.2, random_state = 2)\n",
    "\n",
    "print(f\"Train size {X_train.shape}\")\n",
    "print(f\"Test size {X_test.shape}\")"
   ]
  },
  {
   "cell_type": "markdown",
   "id": "6535b3bb-4d3d-449b-b455-d30001a0da56",
   "metadata": {},
   "source": [
    "## Missing values"
   ]
  },
  {
   "cell_type": "code",
   "execution_count": 106,
   "id": "c75f7c72-954b-40a3-a46b-8fa44f13ecc0",
   "metadata": {},
   "outputs": [
    {
     "data": {
      "text/plain": [
       "False    448\n",
       "Name: count, dtype: int64"
      ]
     },
     "execution_count": 106,
     "metadata": {},
     "output_type": "execute_result"
    }
   ],
   "source": [
    "#*****************************\n",
    "# No column has Missing values in X_train \n",
    "X_train.isna().any().value_counts()"
   ]
  },
  {
   "cell_type": "code",
   "execution_count": 108,
   "id": "bfa862da-ddca-4eec-95c8-6d58adb688be",
   "metadata": {},
   "outputs": [
    {
     "data": {
      "text/plain": [
       "False    448\n",
       "Name: count, dtype: int64"
      ]
     },
     "execution_count": 108,
     "metadata": {},
     "output_type": "execute_result"
    }
   ],
   "source": [
    "#*****************************\n",
    "# No column has Missing values in X_test \n",
    "X_test.isna().any().value_counts()"
   ]
  },
  {
   "cell_type": "code",
   "execution_count": 110,
   "id": "bdedb6d4-5cc5-482a-864e-605e501a00d2",
   "metadata": {},
   "outputs": [
    {
     "data": {
      "text/plain": [
       "False"
      ]
     },
     "execution_count": 110,
     "metadata": {},
     "output_type": "execute_result"
    }
   ],
   "source": [
    "#*****************************\n",
    "# No column has Missing values in y_train \n",
    "y_train.isna().any()"
   ]
  },
  {
   "cell_type": "code",
   "execution_count": 112,
   "id": "0de29129-763e-44a5-84f7-51869edbd508",
   "metadata": {},
   "outputs": [
    {
     "data": {
      "text/plain": [
       "False"
      ]
     },
     "execution_count": 112,
     "metadata": {},
     "output_type": "execute_result"
    }
   ],
   "source": [
    "#*****************************\n",
    "# No column has Missing values in y_test \n",
    "y_train.isna().any()"
   ]
  },
  {
   "cell_type": "markdown",
   "id": "be881c2a-26c5-4cdc-9770-d5ad5e6a8946",
   "metadata": {},
   "source": [
    "## Handling OUTLIERS"
   ]
  },
  {
   "cell_type": "code",
   "execution_count": 115,
   "id": "12a0d1da-3459-476a-bb4b-0a65ad737c6f",
   "metadata": {},
   "outputs": [
    {
     "data": {
      "text/html": [
       "<div>\n",
       "<style scoped>\n",
       "    .dataframe tbody tr th:only-of-type {\n",
       "        vertical-align: middle;\n",
       "    }\n",
       "\n",
       "    .dataframe tbody tr th {\n",
       "        vertical-align: top;\n",
       "    }\n",
       "\n",
       "    .dataframe thead th {\n",
       "        text-align: right;\n",
       "    }\n",
       "</style>\n",
       "<table border=\"1\" class=\"dataframe\">\n",
       "  <thead>\n",
       "    <tr style=\"text-align: right;\">\n",
       "      <th></th>\n",
       "      <th>0</th>\n",
       "      <th>1</th>\n",
       "      <th>2</th>\n",
       "      <th>3</th>\n",
       "      <th>4</th>\n",
       "      <th>5</th>\n",
       "      <th>6</th>\n",
       "      <th>7</th>\n",
       "      <th>8</th>\n",
       "      <th>9</th>\n",
       "      <th>...</th>\n",
       "      <th>438</th>\n",
       "      <th>439</th>\n",
       "      <th>440</th>\n",
       "      <th>441</th>\n",
       "      <th>442</th>\n",
       "      <th>443</th>\n",
       "      <th>444</th>\n",
       "      <th>445</th>\n",
       "      <th>446</th>\n",
       "      <th>447</th>\n",
       "    </tr>\n",
       "  </thead>\n",
       "  <tbody>\n",
       "    <tr>\n",
       "      <th>count</th>\n",
       "      <td>400.000000</td>\n",
       "      <td>400.000000</td>\n",
       "      <td>400.000000</td>\n",
       "      <td>400.000000</td>\n",
       "      <td>400.000000</td>\n",
       "      <td>400.000000</td>\n",
       "      <td>400.000000</td>\n",
       "      <td>400.000000</td>\n",
       "      <td>400.000000</td>\n",
       "      <td>400.000000</td>\n",
       "      <td>...</td>\n",
       "      <td>400.000000</td>\n",
       "      <td>400.000000</td>\n",
       "      <td>400.000000</td>\n",
       "      <td>400.000000</td>\n",
       "      <td>400.000000</td>\n",
       "      <td>400.000000</td>\n",
       "      <td>400.000000</td>\n",
       "      <td>400.000000</td>\n",
       "      <td>400.000000</td>\n",
       "      <td>400.000000</td>\n",
       "    </tr>\n",
       "    <tr>\n",
       "      <th>mean</th>\n",
       "      <td>0.444834</td>\n",
       "      <td>0.442510</td>\n",
       "      <td>0.435550</td>\n",
       "      <td>0.427695</td>\n",
       "      <td>0.420467</td>\n",
       "      <td>0.414099</td>\n",
       "      <td>0.407474</td>\n",
       "      <td>0.401715</td>\n",
       "      <td>0.395244</td>\n",
       "      <td>0.391006</td>\n",
       "      <td>...</td>\n",
       "      <td>0.744830</td>\n",
       "      <td>0.743800</td>\n",
       "      <td>0.743246</td>\n",
       "      <td>0.742545</td>\n",
       "      <td>0.742116</td>\n",
       "      <td>0.742236</td>\n",
       "      <td>0.741312</td>\n",
       "      <td>0.741178</td>\n",
       "      <td>0.740434</td>\n",
       "      <td>0.740541</td>\n",
       "    </tr>\n",
       "    <tr>\n",
       "      <th>std</th>\n",
       "      <td>0.045258</td>\n",
       "      <td>0.045368</td>\n",
       "      <td>0.045617</td>\n",
       "      <td>0.046278</td>\n",
       "      <td>0.045574</td>\n",
       "      <td>0.044705</td>\n",
       "      <td>0.044273</td>\n",
       "      <td>0.043673</td>\n",
       "      <td>0.043879</td>\n",
       "      <td>0.043698</td>\n",
       "      <td>...</td>\n",
       "      <td>0.054559</td>\n",
       "      <td>0.054078</td>\n",
       "      <td>0.053918</td>\n",
       "      <td>0.053939</td>\n",
       "      <td>0.054099</td>\n",
       "      <td>0.053636</td>\n",
       "      <td>0.053905</td>\n",
       "      <td>0.054358</td>\n",
       "      <td>0.053918</td>\n",
       "      <td>0.054595</td>\n",
       "    </tr>\n",
       "    <tr>\n",
       "      <th>min</th>\n",
       "      <td>0.315687</td>\n",
       "      <td>0.307366</td>\n",
       "      <td>0.310477</td>\n",
       "      <td>0.304425</td>\n",
       "      <td>0.296702</td>\n",
       "      <td>0.298056</td>\n",
       "      <td>0.292759</td>\n",
       "      <td>0.284392</td>\n",
       "      <td>0.283077</td>\n",
       "      <td>0.261459</td>\n",
       "      <td>...</td>\n",
       "      <td>0.574161</td>\n",
       "      <td>0.562662</td>\n",
       "      <td>0.585011</td>\n",
       "      <td>0.558412</td>\n",
       "      <td>0.571735</td>\n",
       "      <td>0.575259</td>\n",
       "      <td>0.571767</td>\n",
       "      <td>0.577803</td>\n",
       "      <td>0.576985</td>\n",
       "      <td>0.562302</td>\n",
       "    </tr>\n",
       "    <tr>\n",
       "      <th>25%</th>\n",
       "      <td>0.412293</td>\n",
       "      <td>0.406264</td>\n",
       "      <td>0.397674</td>\n",
       "      <td>0.391453</td>\n",
       "      <td>0.385282</td>\n",
       "      <td>0.379049</td>\n",
       "      <td>0.370346</td>\n",
       "      <td>0.365744</td>\n",
       "      <td>0.361182</td>\n",
       "      <td>0.355776</td>\n",
       "      <td>...</td>\n",
       "      <td>0.707950</td>\n",
       "      <td>0.704557</td>\n",
       "      <td>0.706587</td>\n",
       "      <td>0.704770</td>\n",
       "      <td>0.703909</td>\n",
       "      <td>0.704176</td>\n",
       "      <td>0.703675</td>\n",
       "      <td>0.702889</td>\n",
       "      <td>0.701594</td>\n",
       "      <td>0.704085</td>\n",
       "    </tr>\n",
       "    <tr>\n",
       "      <th>50%</th>\n",
       "      <td>0.449696</td>\n",
       "      <td>0.444386</td>\n",
       "      <td>0.436136</td>\n",
       "      <td>0.425089</td>\n",
       "      <td>0.418134</td>\n",
       "      <td>0.414617</td>\n",
       "      <td>0.407243</td>\n",
       "      <td>0.402113</td>\n",
       "      <td>0.396160</td>\n",
       "      <td>0.390085</td>\n",
       "      <td>...</td>\n",
       "      <td>0.746447</td>\n",
       "      <td>0.746733</td>\n",
       "      <td>0.746794</td>\n",
       "      <td>0.746247</td>\n",
       "      <td>0.746614</td>\n",
       "      <td>0.746693</td>\n",
       "      <td>0.744350</td>\n",
       "      <td>0.745599</td>\n",
       "      <td>0.745824</td>\n",
       "      <td>0.746553</td>\n",
       "    </tr>\n",
       "    <tr>\n",
       "      <th>75%</th>\n",
       "      <td>0.483070</td>\n",
       "      <td>0.479797</td>\n",
       "      <td>0.473366</td>\n",
       "      <td>0.466370</td>\n",
       "      <td>0.460084</td>\n",
       "      <td>0.453308</td>\n",
       "      <td>0.445884</td>\n",
       "      <td>0.440165</td>\n",
       "      <td>0.432452</td>\n",
       "      <td>0.428167</td>\n",
       "      <td>...</td>\n",
       "      <td>0.781867</td>\n",
       "      <td>0.779731</td>\n",
       "      <td>0.778710</td>\n",
       "      <td>0.778802</td>\n",
       "      <td>0.778407</td>\n",
       "      <td>0.778668</td>\n",
       "      <td>0.777266</td>\n",
       "      <td>0.779081</td>\n",
       "      <td>0.777050</td>\n",
       "      <td>0.775758</td>\n",
       "    </tr>\n",
       "    <tr>\n",
       "      <th>max</th>\n",
       "      <td>0.556287</td>\n",
       "      <td>0.530168</td>\n",
       "      <td>0.528774</td>\n",
       "      <td>0.533202</td>\n",
       "      <td>0.511909</td>\n",
       "      <td>0.501786</td>\n",
       "      <td>0.504054</td>\n",
       "      <td>0.490692</td>\n",
       "      <td>0.489272</td>\n",
       "      <td>0.472080</td>\n",
       "      <td>...</td>\n",
       "      <td>0.938395</td>\n",
       "      <td>0.940642</td>\n",
       "      <td>0.940361</td>\n",
       "      <td>0.939153</td>\n",
       "      <td>0.930366</td>\n",
       "      <td>0.942615</td>\n",
       "      <td>0.945225</td>\n",
       "      <td>0.932812</td>\n",
       "      <td>0.931381</td>\n",
       "      <td>0.957860</td>\n",
       "    </tr>\n",
       "  </tbody>\n",
       "</table>\n",
       "<p>8 rows × 448 columns</p>\n",
       "</div>"
      ],
      "text/plain": [
       "                0           1           2           3           4           5  \\\n",
       "count  400.000000  400.000000  400.000000  400.000000  400.000000  400.000000   \n",
       "mean     0.444834    0.442510    0.435550    0.427695    0.420467    0.414099   \n",
       "std      0.045258    0.045368    0.045617    0.046278    0.045574    0.044705   \n",
       "min      0.315687    0.307366    0.310477    0.304425    0.296702    0.298056   \n",
       "25%      0.412293    0.406264    0.397674    0.391453    0.385282    0.379049   \n",
       "50%      0.449696    0.444386    0.436136    0.425089    0.418134    0.414617   \n",
       "75%      0.483070    0.479797    0.473366    0.466370    0.460084    0.453308   \n",
       "max      0.556287    0.530168    0.528774    0.533202    0.511909    0.501786   \n",
       "\n",
       "                6           7           8           9  ...         438  \\\n",
       "count  400.000000  400.000000  400.000000  400.000000  ...  400.000000   \n",
       "mean     0.407474    0.401715    0.395244    0.391006  ...    0.744830   \n",
       "std      0.044273    0.043673    0.043879    0.043698  ...    0.054559   \n",
       "min      0.292759    0.284392    0.283077    0.261459  ...    0.574161   \n",
       "25%      0.370346    0.365744    0.361182    0.355776  ...    0.707950   \n",
       "50%      0.407243    0.402113    0.396160    0.390085  ...    0.746447   \n",
       "75%      0.445884    0.440165    0.432452    0.428167  ...    0.781867   \n",
       "max      0.504054    0.490692    0.489272    0.472080  ...    0.938395   \n",
       "\n",
       "              439         440         441         442         443         444  \\\n",
       "count  400.000000  400.000000  400.000000  400.000000  400.000000  400.000000   \n",
       "mean     0.743800    0.743246    0.742545    0.742116    0.742236    0.741312   \n",
       "std      0.054078    0.053918    0.053939    0.054099    0.053636    0.053905   \n",
       "min      0.562662    0.585011    0.558412    0.571735    0.575259    0.571767   \n",
       "25%      0.704557    0.706587    0.704770    0.703909    0.704176    0.703675   \n",
       "50%      0.746733    0.746794    0.746247    0.746614    0.746693    0.744350   \n",
       "75%      0.779731    0.778710    0.778802    0.778407    0.778668    0.777266   \n",
       "max      0.940642    0.940361    0.939153    0.930366    0.942615    0.945225   \n",
       "\n",
       "              445         446         447  \n",
       "count  400.000000  400.000000  400.000000  \n",
       "mean     0.741178    0.740434    0.740541  \n",
       "std      0.054358    0.053918    0.054595  \n",
       "min      0.577803    0.576985    0.562302  \n",
       "25%      0.702889    0.701594    0.704085  \n",
       "50%      0.745599    0.745824    0.746553  \n",
       "75%      0.779081    0.777050    0.775758  \n",
       "max      0.932812    0.931381    0.957860  \n",
       "\n",
       "[8 rows x 448 columns]"
      ]
     },
     "execution_count": 115,
     "metadata": {},
     "output_type": "execute_result"
    }
   ],
   "source": [
    "X_train.describe()"
   ]
  },
  {
   "cell_type": "code",
   "execution_count": 116,
   "id": "516a9416-a1d9-4006-b286-ebec38e91877",
   "metadata": {},
   "outputs": [
    {
     "data": {
      "text/plain": [
       "0     -0.299820\n",
       "2     -0.237487\n",
       "1     -0.236511\n",
       "17    -0.219812\n",
       "21    -0.208374\n",
       "         ...   \n",
       "113    0.225810\n",
       "102    0.234844\n",
       "103    0.238646\n",
       "101    0.263588\n",
       "97     0.294542\n",
       "Length: 448, dtype: float64"
      ]
     },
     "execution_count": 116,
     "metadata": {},
     "output_type": "execute_result"
    }
   ],
   "source": [
    "X_train.skew().sort_values()"
   ]
  },
  {
   "cell_type": "code",
   "execution_count": 117,
   "id": "4e54e6ee-0dfa-4d95-9b6a-ae9b8449b919",
   "metadata": {},
   "outputs": [
    {
     "data": {
      "text/plain": [
       "<Axes: xlabel='97', ylabel='Count'>"
      ]
     },
     "execution_count": 117,
     "metadata": {},
     "output_type": "execute_result"
    },
    {
     "data": {
      "image/png": "[encoded data removed]",
      "text/plain": [
       "<Figure size 1000x600 with 4 Axes>"
      ]
     },
     "metadata": {},
     "output_type": "display_data"
    }
   ],
   "source": [
    "plt.figure(figsize=(10, 6))\n",
    "plt.subplot(2,2,1)\n",
    "sns.histplot(X_train['0'], kde=True)\n",
    "plt.subplot(2,2,2)\n",
    "sns.histplot(X_train['21'], kde=True)\n",
    "plt.subplot(2,2,3)\n",
    "sns.histplot(X_train['17'], kde=True)\n",
    "plt.subplot(2,2,4)\n",
    "sns.histplot(X_train['97'], kde=True)"
   ]
  },
  {
   "cell_type": "markdown",
   "id": "5e95e196-5efe-4a84-a140-f9f8dcf4a8f0",
   "metadata": {},
   "source": [
    "#### Since most of  columns has  bimodal distribution, i prefer to use IQR method for handling outliers and not Z score.\n",
    "\n",
    "#### Also i will do clipping"
   ]
  },
  {
   "cell_type": "code",
   "execution_count": 121,
   "id": "578e2a58-4ea9-4762-adf5-4a943652d54c",
   "metadata": {},
   "outputs": [
    {
     "data": {
      "text/html": [
       "<div>\n",
       "<style scoped>\n",
       "    .dataframe tbody tr th:only-of-type {\n",
       "        vertical-align: middle;\n",
       "    }\n",
       "\n",
       "    .dataframe tbody tr th {\n",
       "        vertical-align: top;\n",
       "    }\n",
       "\n",
       "    .dataframe thead th {\n",
       "        text-align: right;\n",
       "    }\n",
       "</style>\n",
       "<table border=\"1\" class=\"dataframe\">\n",
       "  <thead>\n",
       "    <tr style=\"text-align: right;\">\n",
       "      <th></th>\n",
       "      <th>0</th>\n",
       "      <th>21</th>\n",
       "      <th>17</th>\n",
       "      <th>97</th>\n",
       "    </tr>\n",
       "  </thead>\n",
       "  <tbody>\n",
       "    <tr>\n",
       "      <th>count</th>\n",
       "      <td>400.000000</td>\n",
       "      <td>400.000000</td>\n",
       "      <td>400.000000</td>\n",
       "      <td>400.000000</td>\n",
       "    </tr>\n",
       "    <tr>\n",
       "      <th>mean</th>\n",
       "      <td>0.444834</td>\n",
       "      <td>0.361338</td>\n",
       "      <td>0.369920</td>\n",
       "      <td>0.531082</td>\n",
       "    </tr>\n",
       "    <tr>\n",
       "      <th>std</th>\n",
       "      <td>0.045258</td>\n",
       "      <td>0.037883</td>\n",
       "      <td>0.039166</td>\n",
       "      <td>0.049897</td>\n",
       "    </tr>\n",
       "    <tr>\n",
       "      <th>min</th>\n",
       "      <td>0.315687</td>\n",
       "      <td>0.243458</td>\n",
       "      <td>0.254197</td>\n",
       "      <td>0.363071</td>\n",
       "    </tr>\n",
       "    <tr>\n",
       "      <th>25%</th>\n",
       "      <td>0.412293</td>\n",
       "      <td>0.332187</td>\n",
       "      <td>0.341013</td>\n",
       "      <td>0.499333</td>\n",
       "    </tr>\n",
       "    <tr>\n",
       "      <th>50%</th>\n",
       "      <td>0.449696</td>\n",
       "      <td>0.361797</td>\n",
       "      <td>0.366832</td>\n",
       "      <td>0.531951</td>\n",
       "    </tr>\n",
       "    <tr>\n",
       "      <th>75%</th>\n",
       "      <td>0.483070</td>\n",
       "      <td>0.391707</td>\n",
       "      <td>0.400187</td>\n",
       "      <td>0.560251</td>\n",
       "    </tr>\n",
       "    <tr>\n",
       "      <th>max</th>\n",
       "      <td>0.556287</td>\n",
       "      <td>0.457033</td>\n",
       "      <td>0.458647</td>\n",
       "      <td>0.744714</td>\n",
       "    </tr>\n",
       "  </tbody>\n",
       "</table>\n",
       "</div>"
      ],
      "text/plain": [
       "                0          21          17          97\n",
       "count  400.000000  400.000000  400.000000  400.000000\n",
       "mean     0.444834    0.361338    0.369920    0.531082\n",
       "std      0.045258    0.037883    0.039166    0.049897\n",
       "min      0.315687    0.243458    0.254197    0.363071\n",
       "25%      0.412293    0.332187    0.341013    0.499333\n",
       "50%      0.449696    0.361797    0.366832    0.531951\n",
       "75%      0.483070    0.391707    0.400187    0.560251\n",
       "max      0.556287    0.457033    0.458647    0.744714"
      ]
     },
     "execution_count": 121,
     "metadata": {},
     "output_type": "execute_result"
    }
   ],
   "source": [
    "X_train[[\"0\", \"21\", \"17\", \"97\"]].describe()"
   ]
  },
  {
   "cell_type": "code",
   "execution_count": 122,
   "id": "8107950d-4f7f-488b-836d-d64c5f8f1e85",
   "metadata": {},
   "outputs": [
    {
     "data": {
      "text/plain": [
       "<Axes: ylabel='97'>"
      ]
     },
     "execution_count": 122,
     "metadata": {},
     "output_type": "execute_result"
    },
    {
     "data": {
      "image/png": "[encoded data removed]",
      "text/plain": [
       "<Figure size 640x480 with 1 Axes>"
      ]
     },
     "metadata": {},
     "output_type": "display_data"
    }
   ],
   "source": [
    "sns.boxplot(X_train[\"97\"])"
   ]
  },
  {
   "cell_type": "code",
   "execution_count": 123,
   "id": "d04ea3a7-2e15-444a-b1a4-0e74afa481fc",
   "metadata": {},
   "outputs": [],
   "source": [
    "def q1_calculate(dataframe, column):\n",
    "    q1 = np.percentile(dataframe[column], 25)\n",
    "    return q1\n",
    "\n",
    "def q3_calculate(dataframe, column):\n",
    "    q3 = np.percentile(dataframe[column], 75)\n",
    "    return q3\n",
    "\n",
    "def clipper(dataframe, column, q1, q3):\n",
    "    iqr = q3 - q1\n",
    "    lower_range = q1 - (1.5 * iqr)\n",
    "    upper_range = q3 + (1.5 * iqr)\n",
    "    dataframe[column] = np.clip(dataframe[column], lower_range, upper_range)\n",
    "\n",
    "\n",
    "iqr_values = {col: (q1_calculate(X_train, col), q3_calculate(X_train, col)) for col in X_train.columns}\n",
    "\n",
    "    \n",
    "# Clipping outliers in X_train   \n",
    "for col in X_train.columns:\n",
    "    q1, q3 = iqr_values[col]\n",
    "    clipper(X_train, col, q1, q3)\n",
    "\n",
    "# Clipping outliers in X_test\n",
    "for col in X_test.columns:\n",
    "    q1, q3 = iqr_values[col]\n",
    "    clipper(X_test, col, q1, q3)\n",
    "    "
   ]
  },
  {
   "cell_type": "code",
   "execution_count": 124,
   "id": "79c7c345-4215-4fe3-9f7f-1176fe524795",
   "metadata": {},
   "outputs": [
    {
     "data": {
      "text/html": [
       "<div>\n",
       "<style scoped>\n",
       "    .dataframe tbody tr th:only-of-type {\n",
       "        vertical-align: middle;\n",
       "    }\n",
       "\n",
       "    .dataframe tbody tr th {\n",
       "        vertical-align: top;\n",
       "    }\n",
       "\n",
       "    .dataframe thead th {\n",
       "        text-align: right;\n",
       "    }\n",
       "</style>\n",
       "<table border=\"1\" class=\"dataframe\">\n",
       "  <thead>\n",
       "    <tr style=\"text-align: right;\">\n",
       "      <th></th>\n",
       "      <th>0</th>\n",
       "      <th>21</th>\n",
       "      <th>17</th>\n",
       "      <th>97</th>\n",
       "    </tr>\n",
       "  </thead>\n",
       "  <tbody>\n",
       "    <tr>\n",
       "      <th>count</th>\n",
       "      <td>400.000000</td>\n",
       "      <td>400.000000</td>\n",
       "      <td>400.000000</td>\n",
       "      <td>400.000000</td>\n",
       "    </tr>\n",
       "    <tr>\n",
       "      <th>mean</th>\n",
       "      <td>0.444834</td>\n",
       "      <td>0.361338</td>\n",
       "      <td>0.369920</td>\n",
       "      <td>0.530589</td>\n",
       "    </tr>\n",
       "    <tr>\n",
       "      <th>std</th>\n",
       "      <td>0.045258</td>\n",
       "      <td>0.037883</td>\n",
       "      <td>0.039166</td>\n",
       "      <td>0.047545</td>\n",
       "    </tr>\n",
       "    <tr>\n",
       "      <th>min</th>\n",
       "      <td>0.315687</td>\n",
       "      <td>0.243458</td>\n",
       "      <td>0.254197</td>\n",
       "      <td>0.407955</td>\n",
       "    </tr>\n",
       "    <tr>\n",
       "      <th>25%</th>\n",
       "      <td>0.412293</td>\n",
       "      <td>0.332187</td>\n",
       "      <td>0.341013</td>\n",
       "      <td>0.499333</td>\n",
       "    </tr>\n",
       "    <tr>\n",
       "      <th>50%</th>\n",
       "      <td>0.449696</td>\n",
       "      <td>0.361797</td>\n",
       "      <td>0.366832</td>\n",
       "      <td>0.531951</td>\n",
       "    </tr>\n",
       "    <tr>\n",
       "      <th>75%</th>\n",
       "      <td>0.483070</td>\n",
       "      <td>0.391707</td>\n",
       "      <td>0.400187</td>\n",
       "      <td>0.560251</td>\n",
       "    </tr>\n",
       "    <tr>\n",
       "      <th>max</th>\n",
       "      <td>0.556287</td>\n",
       "      <td>0.457033</td>\n",
       "      <td>0.458647</td>\n",
       "      <td>0.651629</td>\n",
       "    </tr>\n",
       "  </tbody>\n",
       "</table>\n",
       "</div>"
      ],
      "text/plain": [
       "                0          21          17          97\n",
       "count  400.000000  400.000000  400.000000  400.000000\n",
       "mean     0.444834    0.361338    0.369920    0.530589\n",
       "std      0.045258    0.037883    0.039166    0.047545\n",
       "min      0.315687    0.243458    0.254197    0.407955\n",
       "25%      0.412293    0.332187    0.341013    0.499333\n",
       "50%      0.449696    0.361797    0.366832    0.531951\n",
       "75%      0.483070    0.391707    0.400187    0.560251\n",
       "max      0.556287    0.457033    0.458647    0.651629"
      ]
     },
     "execution_count": 124,
     "metadata": {},
     "output_type": "execute_result"
    }
   ],
   "source": [
    "X_train[[\"0\", \"21\", \"17\", \"97\"]].describe()"
   ]
  },
  {
   "cell_type": "code",
   "execution_count": 125,
   "id": "2c6dcb37-e66c-4b28-804d-879cb2e1eace",
   "metadata": {},
   "outputs": [
    {
     "data": {
      "text/plain": [
       "<Axes: ylabel='97'>"
      ]
     },
     "execution_count": 125,
     "metadata": {},
     "output_type": "execute_result"
    },
    {
     "data": {
      "image/png": "[encoded data removed]",
      "text/plain": [
       "<Figure size 640x480 with 1 Axes>"
      ]
     },
     "metadata": {},
     "output_type": "display_data"
    }
   ],
   "source": [
    "sns.boxplot(X_train[\"97\"])"
   ]
  },
  {
   "cell_type": "markdown",
   "id": "b80aa92c-bf0b-49b4-86b2-70209c65a207",
   "metadata": {},
   "source": [
    "## PCA"
   ]
  },
  {
   "cell_type": "code",
   "execution_count": 128,
   "id": "5b317d4b-4fb1-4600-ba39-44713e82b0f6",
   "metadata": {},
   "outputs": [],
   "source": [
    "# First applying standard scalar , which makes variance 1 for all columns.\n",
    "\n",
    "scalar = StandardScaler()\n",
    "X_train = pd.DataFrame(scalar.fit_transform(X_train), columns = X_train.columns)\n",
    "X_test = pd.DataFrame(scalar.transform(X_test), columns = X_test.columns)"
   ]
  },
  {
   "cell_type": "code",
   "execution_count": 130,
   "id": "ec6a8025-de68-4d14-ac6b-a0311f17f4e1",
   "metadata": {},
   "outputs": [],
   "source": [
    "# Now applying PCA\n",
    "\n",
    "pca = PCA(n_components=4)\n",
    "X_train = pd.DataFrame(pca.fit_transform(X_train), columns=[f\"PC{i+1}\" for i in range(pca.n_components_)])\n",
    "X_test = pd.DataFrame(pca.transform(X_test), columns=[f\"PC{i+1}\" for i in range(pca.n_components_)])"
   ]
  },
  {
   "cell_type": "code",
   "execution_count": 132,
   "id": "4910c688-975e-4e13-9b46-90c946346709",
   "metadata": {},
   "outputs": [
    {
     "data": {
      "text/html": [
       "<div>\n",
       "<style scoped>\n",
       "    .dataframe tbody tr th:only-of-type {\n",
       "        vertical-align: middle;\n",
       "    }\n",
       "\n",
       "    .dataframe tbody tr th {\n",
       "        vertical-align: top;\n",
       "    }\n",
       "\n",
       "    .dataframe thead th {\n",
       "        text-align: right;\n",
       "    }\n",
       "</style>\n",
       "<table border=\"1\" class=\"dataframe\">\n",
       "  <thead>\n",
       "    <tr style=\"text-align: right;\">\n",
       "      <th></th>\n",
       "      <th>PC1</th>\n",
       "      <th>PC2</th>\n",
       "      <th>PC3</th>\n",
       "      <th>PC4</th>\n",
       "    </tr>\n",
       "  </thead>\n",
       "  <tbody>\n",
       "    <tr>\n",
       "      <th>0</th>\n",
       "      <td>7.800078</td>\n",
       "      <td>-6.734689</td>\n",
       "      <td>-1.323580</td>\n",
       "      <td>4.299359</td>\n",
       "    </tr>\n",
       "    <tr>\n",
       "      <th>1</th>\n",
       "      <td>25.125766</td>\n",
       "      <td>2.884451</td>\n",
       "      <td>1.958127</td>\n",
       "      <td>0.528975</td>\n",
       "    </tr>\n",
       "    <tr>\n",
       "      <th>2</th>\n",
       "      <td>-31.534630</td>\n",
       "      <td>8.406329</td>\n",
       "      <td>1.338853</td>\n",
       "      <td>-2.057513</td>\n",
       "    </tr>\n",
       "    <tr>\n",
       "      <th>3</th>\n",
       "      <td>25.132662</td>\n",
       "      <td>4.989933</td>\n",
       "      <td>1.460895</td>\n",
       "      <td>0.994747</td>\n",
       "    </tr>\n",
       "    <tr>\n",
       "      <th>4</th>\n",
       "      <td>11.748299</td>\n",
       "      <td>2.394775</td>\n",
       "      <td>-2.197818</td>\n",
       "      <td>1.834211</td>\n",
       "    </tr>\n",
       "    <tr>\n",
       "      <th>...</th>\n",
       "      <td>...</td>\n",
       "      <td>...</td>\n",
       "      <td>...</td>\n",
       "      <td>...</td>\n",
       "    </tr>\n",
       "    <tr>\n",
       "      <th>395</th>\n",
       "      <td>-24.813556</td>\n",
       "      <td>3.040657</td>\n",
       "      <td>-2.285761</td>\n",
       "      <td>-2.070797</td>\n",
       "    </tr>\n",
       "    <tr>\n",
       "      <th>396</th>\n",
       "      <td>-13.686476</td>\n",
       "      <td>3.062632</td>\n",
       "      <td>0.329258</td>\n",
       "      <td>-1.476256</td>\n",
       "    </tr>\n",
       "    <tr>\n",
       "      <th>397</th>\n",
       "      <td>-25.728282</td>\n",
       "      <td>-0.977292</td>\n",
       "      <td>1.783538</td>\n",
       "      <td>-0.281709</td>\n",
       "    </tr>\n",
       "    <tr>\n",
       "      <th>398</th>\n",
       "      <td>12.881229</td>\n",
       "      <td>-8.808977</td>\n",
       "      <td>-2.565909</td>\n",
       "      <td>-5.115318</td>\n",
       "    </tr>\n",
       "    <tr>\n",
       "      <th>399</th>\n",
       "      <td>-17.266844</td>\n",
       "      <td>7.409847</td>\n",
       "      <td>-15.017390</td>\n",
       "      <td>-2.399676</td>\n",
       "    </tr>\n",
       "  </tbody>\n",
       "</table>\n",
       "<p>400 rows × 4 columns</p>\n",
       "</div>"
      ],
      "text/plain": [
       "           PC1       PC2        PC3       PC4\n",
       "0     7.800078 -6.734689  -1.323580  4.299359\n",
       "1    25.125766  2.884451   1.958127  0.528975\n",
       "2   -31.534630  8.406329   1.338853 -2.057513\n",
       "3    25.132662  4.989933   1.460895  0.994747\n",
       "4    11.748299  2.394775  -2.197818  1.834211\n",
       "..         ...       ...        ...       ...\n",
       "395 -24.813556  3.040657  -2.285761 -2.070797\n",
       "396 -13.686476  3.062632   0.329258 -1.476256\n",
       "397 -25.728282 -0.977292   1.783538 -0.281709\n",
       "398  12.881229 -8.808977  -2.565909 -5.115318\n",
       "399 -17.266844  7.409847 -15.017390 -2.399676\n",
       "\n",
       "[400 rows x 4 columns]"
      ]
     },
     "execution_count": 132,
     "metadata": {},
     "output_type": "execute_result"
    }
   ],
   "source": [
    "X_train"
   ]
  },
  {
   "cell_type": "code",
   "execution_count": 133,
   "id": "b3d8a615-5636-4e24-a10e-d9b8ec5b46db",
   "metadata": {},
   "outputs": [
    {
     "data": {
      "image/png": "[encoded data removed]",
      "text/plain": [
       "<Figure size 640x480 with 1 Axes>"
      ]
     },
     "metadata": {},
     "output_type": "display_data"
    }
   ],
   "source": [
    "explained_variance = pca.explained_variance_ratio_*100\n",
    "plt.plot(range(1, len(explained_variance) + 1), explained_variance, marker='*', linestyle='--', color='r')\n",
    "plt.xlabel('Principal Component Number')\n",
    "plt.ylabel('Explained Variance Ratio')\n",
    "plt.xticks(range(1, len(explained_variance) + 1))\n",
    "plt.show()"
   ]
  },
  {
   "cell_type": "code",
   "execution_count": 134,
   "id": "6288b963-a5d9-47b1-aec5-51d12210c3df",
   "metadata": {},
   "outputs": [
    {
     "name": "stdout",
     "output_type": "stream",
     "text": [
      "Variance explained by PC1 = 86.96, PC2 = 5.97, PC3 = 1.99, PC4 = 1.17\n",
      "\n",
      "Total explained variance is 96.08 %\n"
     ]
    }
   ],
   "source": [
    "# Total explained variance is 96.08 %\n",
    "# Variance Explained by PC1 is 96.08\n",
    "\n",
    "print(f\"Variance explained by PC1 = {np.round(explained_variance[0],2)}, PC2 = {np.round(explained_variance[1],2)}, PC3 = {np.round(explained_variance[2],2)}, PC4 = {np.round(explained_variance[3], 2)}\\n\")\n",
    "print(f\"Total explained variance is {np.round(explained_variance.sum(),2)} %\")"
   ]
  },
  {
   "cell_type": "markdown",
   "id": "45509fd6-5a71-4f8e-82a2-9c5758b36c92",
   "metadata": {},
   "source": [
    "## Building Model"
   ]
  },
  {
   "cell_type": "code",
   "execution_count": 141,
   "id": "f30e2227-896b-4e2f-ba10-c79f763c7c97",
   "metadata": {},
   "outputs": [
    {
     "name": "stdout",
     "output_type": "stream",
     "text": [
      "train R2 : 0.3566025021985517\n",
      "test R2 : 0.39024549809731557\n"
     ]
    }
   ],
   "source": [
    "### Trying Linear regression\n",
    "\n",
    "lre = LinearRegression()\n",
    "\n",
    "lre.fit(X_train, y_train)\n",
    "print(f\"train R2 : {lre.score(X_train, y_train)}\")\n",
    "print(f\"test R2 : {lre.score(X_test, y_test)}\")"
   ]
  },
  {
   "cell_type": "code",
   "execution_count": 146,
   "id": "d4be17e8-77d3-40d8-85ae-0a2200629fdd",
   "metadata": {},
   "outputs": [
    {
     "name": "stdout",
     "output_type": "stream",
     "text": [
      "R2 : -11.64362865052461\n"
     ]
    }
   ],
   "source": [
    "scores = cross_val_score(lre, X, y, cv=4)\n",
    "print(f\"R2 : {scores.mean()}\")"
   ]
  },
  {
   "cell_type": "markdown",
   "id": "49608e1d-fe07-4d85-9e3a-2b3b9d522ddd",
   "metadata": {},
   "source": [
    "#### Linear regression model is not suitable, as it is not able to fit on data i.e underfitting. "
   ]
  },
  {
   "cell_type": "code",
   "execution_count": 149,
   "id": "b342d264-bb83-46c0-9c1e-da7f7a9bd53b",
   "metadata": {},
   "outputs": [
    {
     "name": "stdout",
     "output_type": "stream",
     "text": [
      "R² Score on Test Data: 0.1079\n",
      "R² Score on Train Data: 1.0000\n",
      "Cross-validation R² Scores: [ 0.15944526  0.91628373  0.92125685 -0.43050529  0.80652677]\n",
      "Mean CV R² Score: 0.4746\n"
     ]
    }
   ],
   "source": [
    "## Applying Decision Tree regression\n",
    "\n",
    "tree = DecisionTreeRegressor(random_state=42)\n",
    "\n",
    "# Model training\n",
    "tree.fit(X_train, y_train)\n",
    "\n",
    "# MAking prediction\n",
    "y_pred = tree.predict(X_test)\n",
    "\n",
    "# Calculating R2 score\n",
    "score = r2_score(y_test, y_pred)\n",
    "print(f\"R² Score on Test Data: {score:.4f}\")\n",
    "print(f\"R² Score on Train Data: {tree.score(X_train, y_train):.4f}\")\n",
    "\n",
    "# Doing cross validation on different folds.\n",
    "cv_scores = cross_val_score(tree, X_train, y_train, cv=5)\n",
    "print(f\"Cross-validation R² Scores: {cv_scores}\")\n",
    "print(f\"Mean CV R² Score: {cv_scores.mean():.4f}\")"
   ]
  },
  {
   "cell_type": "markdown",
   "id": "9b5edd76-445e-47f4-a984-83a7e61c312d",
   "metadata": {},
   "source": [
    "#### As our train R2 is 1 and our test R2 is 0.1 , it strongly suggest that our model is overfitting.Also some of our cross val score are high as some are negative, suggesting our model is sensitive to some folds."
   ]
  }
 ],
 "metadata": {
  "kernelspec": {
   "display_name": "Python 3 (ipykernel)",
   "language": "python",
   "name": "python3"
  },
  "language_info": {
   "codemirror_mode": {
    "name": "ipython",
    "version": 3
   },
   "file_extension": ".py",
   "mimetype": "text/x-python",
   "name": "python",
   "nbconvert_exporter": "python",
   "pygments_lexer": "ipython3",
   "version": "3.12.3"
  }
 },
 "nbformat": 4,
 "nbformat_minor": 5
}
